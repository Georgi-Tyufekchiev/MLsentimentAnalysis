{
  "cells": [
    {
      "cell_type": "markdown",
      "metadata": {
        "id": "QbM7x-5UEzUR",
        "papermill": {
          "duration": 0.059736,
          "end_time": "2020-12-24T10:40:55.541863",
          "exception": false,
          "start_time": "2020-12-24T10:40:55.482127",
          "status": "completed"
        },
        "tags": []
      },
      "source": [
        "# Sentiment Analysis using BERT\n",
        "\n",
        "BERT (Bidirectionnal Encoder Representations for Transformers) is a “new method of pre-training language representations” developed by Google and released in late 2018."
      ]
    },
    {
      "cell_type": "markdown",
      "metadata": {
        "id": "Q6hKNfAlEzUS",
        "papermill": {
          "duration": 0.054847,
          "end_time": "2020-12-24T10:40:55.654119",
          "exception": false,
          "start_time": "2020-12-24T10:40:55.599272",
          "status": "completed"
        },
        "tags": []
      },
      "source": [
        "### Import Libraries and Set the intial variables"
      ]
    },
    {
      "cell_type": "code",
      "execution_count": null,
      "metadata": {
        "execution": {
          "iopub.execute_input": "2020-12-24T10:40:55.763658Z",
          "iopub.status.busy": "2020-12-24T10:40:55.762789Z",
          "iopub.status.idle": "2020-12-24T10:41:05.911843Z",
          "shell.execute_reply": "2020-12-24T10:41:05.910641Z"
        },
        "id": "vezpsX-7GphM",
        "outputId": "533f162a-42d6-4c8a-a94c-57842ecf5b38",
        "papermill": {
          "duration": 10.201828,
          "end_time": "2020-12-24T10:41:05.912009",
          "exception": false,
          "start_time": "2020-12-24T10:40:55.710181",
          "status": "completed"
        },
        "tags": [],
        "colab": {
          "base_uri": "https://localhost:8080/"
        }
      },
      "outputs": [
        {
          "output_type": "stream",
          "name": "stdout",
          "text": [
            "Looking in indexes: https://pypi.org/simple, https://us-python.pkg.dev/colab-wheels/public/simple/\n",
            "Collecting transformers\n",
            "  Downloading transformers-4.27.4-py3-none-any.whl (6.8 MB)\n",
            "\u001b[2K     \u001b[90m━━━━━━━━━━━━━━━━━━━━━━━━━━━━━━━━━━━━━━━━\u001b[0m \u001b[32m6.8/6.8 MB\u001b[0m \u001b[31m55.7 MB/s\u001b[0m eta \u001b[36m0:00:00\u001b[0m\n",
            "\u001b[?25hCollecting tokenizers!=0.11.3,<0.14,>=0.11.1\n",
            "  Downloading tokenizers-0.13.3-cp39-cp39-manylinux_2_17_x86_64.manylinux2014_x86_64.whl (7.8 MB)\n",
            "\u001b[2K     \u001b[90m━━━━━━━━━━━━━━━━━━━━━━━━━━━━━━━━━━━━━━━━\u001b[0m \u001b[32m7.8/7.8 MB\u001b[0m \u001b[31m107.6 MB/s\u001b[0m eta \u001b[36m0:00:00\u001b[0m\n",
            "\u001b[?25hRequirement already satisfied: numpy>=1.17 in /usr/local/lib/python3.9/dist-packages (from transformers) (1.22.4)\n",
            "Collecting huggingface-hub<1.0,>=0.11.0\n",
            "  Downloading huggingface_hub-0.13.4-py3-none-any.whl (200 kB)\n",
            "\u001b[2K     \u001b[90m━━━━━━━━━━━━━━━━━━━━━━━━━━━━━━━━━━━━━━\u001b[0m \u001b[32m200.1/200.1 kB\u001b[0m \u001b[31m27.9 MB/s\u001b[0m eta \u001b[36m0:00:00\u001b[0m\n",
            "\u001b[?25hRequirement already satisfied: packaging>=20.0 in /usr/local/lib/python3.9/dist-packages (from transformers) (23.0)\n",
            "Requirement already satisfied: requests in /usr/local/lib/python3.9/dist-packages (from transformers) (2.27.1)\n",
            "Requirement already satisfied: tqdm>=4.27 in /usr/local/lib/python3.9/dist-packages (from transformers) (4.65.0)\n",
            "Requirement already satisfied: pyyaml>=5.1 in /usr/local/lib/python3.9/dist-packages (from transformers) (6.0)\n",
            "Requirement already satisfied: filelock in /usr/local/lib/python3.9/dist-packages (from transformers) (3.11.0)\n",
            "Requirement already satisfied: regex!=2019.12.17 in /usr/local/lib/python3.9/dist-packages (from transformers) (2022.10.31)\n",
            "Requirement already satisfied: typing-extensions>=3.7.4.3 in /usr/local/lib/python3.9/dist-packages (from huggingface-hub<1.0,>=0.11.0->transformers) (4.5.0)\n",
            "Requirement already satisfied: idna<4,>=2.5 in /usr/local/lib/python3.9/dist-packages (from requests->transformers) (3.4)\n",
            "Requirement already satisfied: urllib3<1.27,>=1.21.1 in /usr/local/lib/python3.9/dist-packages (from requests->transformers) (1.26.15)\n",
            "Requirement already satisfied: certifi>=2017.4.17 in /usr/local/lib/python3.9/dist-packages (from requests->transformers) (2022.12.7)\n",
            "Requirement already satisfied: charset-normalizer~=2.0.0 in /usr/local/lib/python3.9/dist-packages (from requests->transformers) (2.0.12)\n",
            "Installing collected packages: tokenizers, huggingface-hub, transformers\n",
            "Successfully installed huggingface-hub-0.13.4 tokenizers-0.13.3 transformers-4.27.4\n"
          ]
        }
      ],
      "source": [
        "!pip install transformers"
      ]
    },
    {
      "cell_type": "code",
      "execution_count": null,
      "metadata": {
        "execution": {
          "iopub.execute_input": "2020-12-24T10:41:06.032496Z",
          "iopub.status.busy": "2020-12-24T10:41:06.031346Z",
          "iopub.status.idle": "2020-12-24T10:41:15.711746Z",
          "shell.execute_reply": "2020-12-24T10:41:15.711007Z"
        },
        "id": "WtQykqrfEzUT",
        "papermill": {
          "duration": 9.726207,
          "end_time": "2020-12-24T10:41:15.711956",
          "exception": false,
          "start_time": "2020-12-24T10:41:05.985749",
          "status": "completed"
        },
        "tags": []
      },
      "outputs": [],
      "source": [
        "# Import necessary libraries\n",
        "import numpy as np\n",
        "import pandas as pd\n",
        "import seaborn as sns\n",
        "from pylab import rcParams\n",
        "import matplotlib.pyplot as plt\n",
        "from matplotlib import rc\n",
        "from sklearn.model_selection import train_test_split\n",
        "from sklearn.metrics import confusion_matrix, classification_report\n",
        "from collections import defaultdict\n",
        "from textwrap import wrap\n",
        "\n",
        "# Torch ML libraries\n",
        "import transformers\n",
        "from transformers import BertModel, BertTokenizer, AdamW, get_linear_schedule_with_warmup\n",
        "import torch\n",
        "from torch import nn, optim\n",
        "from torch.utils.data import Dataset, DataLoader\n",
        "\n",
        "# Misc.\n",
        "import warnings\n",
        "warnings.filterwarnings('ignore')"
      ]
    },
    {
      "cell_type": "code",
      "execution_count": null,
      "metadata": {
        "execution": {
          "iopub.execute_input": "2020-12-24T10:41:15.808786Z",
          "iopub.status.busy": "2020-12-24T10:41:15.807937Z",
          "iopub.status.idle": "2020-12-24T10:41:15.819901Z",
          "shell.execute_reply": "2020-12-24T10:41:15.819301Z"
        },
        "id": "gRINjFWWEzUb",
        "papermill": {
          "duration": 0.069774,
          "end_time": "2020-12-24T10:41:15.820032",
          "exception": false,
          "start_time": "2020-12-24T10:41:15.750258",
          "status": "completed"
        },
        "tags": []
      },
      "outputs": [],
      "source": [
        "# Set intial variables and constants\n",
        "%config InlineBackend.figure_format='retina'\n",
        "\n",
        "# Graph Designs\n",
        "sns.set(style='whitegrid', palette='muted', font_scale=1.2)\n",
        "HAPPY_COLORS_PALETTE = [\"#01BEFE\", \"#FFDD00\", \"#FF7D00\", \"#FF006D\", \"#ADFF02\", \"#8F00FF\"]\n",
        "sns.set_palette(sns.color_palette(HAPPY_COLORS_PALETTE))\n",
        "rcParams['figure.figsize'] = 12, 8\n",
        "\n",
        "# Random seed for reproducibilty\n",
        "RANDOM_SEED = 42\n",
        "np.random.seed(RANDOM_SEED)\n",
        "torch.manual_seed(RANDOM_SEED)\n",
        "\n",
        "# Set GPU\n",
        "device = torch.device(\"cuda\" if torch.cuda.is_available() else \"cpu\")"
      ]
    },
    {
      "cell_type": "markdown",
      "metadata": {
        "id": "LQOFO5MSEzUf",
        "papermill": {
          "duration": 0.043307,
          "end_time": "2020-12-24T10:41:15.903190",
          "exception": false,
          "start_time": "2020-12-24T10:41:15.859883",
          "status": "completed"
        },
        "tags": []
      },
      "source": [
        "### Load the data"
      ]
    },
    {
      "cell_type": "code",
      "execution_count": null,
      "metadata": {
        "execution": {
          "iopub.execute_input": "2020-12-24T10:41:15.999903Z",
          "iopub.status.busy": "2020-12-24T10:41:15.999121Z",
          "iopub.status.idle": "2020-12-24T10:41:16.196291Z",
          "shell.execute_reply": "2020-12-24T10:41:16.195493Z"
        },
        "id": "g6b5ajqzEzUg",
        "outputId": "888382fa-16f0-4df0-c675-25a5a0b18d06",
        "papermill": {
          "duration": 0.251685,
          "end_time": "2020-12-24T10:41:16.196420",
          "exception": false,
          "start_time": "2020-12-24T10:41:15.944735",
          "status": "completed"
        },
        "tags": [],
        "colab": {
          "base_uri": "https://localhost:8080/"
        }
      },
      "outputs": [
        {
          "output_type": "execute_result",
          "data": {
            "text/plain": [
              "(5836, 4)"
            ]
          },
          "metadata": {},
          "execution_count": 5
        }
      ],
      "source": [
        "df = pd.read_table(\"text.txt\",header=None)\n",
        "df.columns = ['text']\n",
        "df[['topic','sentiment','id','text']]= df.text.str.split(' ',n=3,expand=True)\n",
        "\n",
        "\n",
        "df = df.drop_duplicates(subset=['text'], keep='first')\n",
        "df['text'] = df['text'].str.replace(\" n't \", \" not \")\n",
        "df['text'] = df['text'].str.replace(\" 's \", \"'s \")\n",
        "df['text'] = df['text'].str.replace(\" 'm \", \"'m \")\n",
        "df.shape"
      ]
    },
    {
      "cell_type": "code",
      "execution_count": null,
      "metadata": {
        "execution": {
          "iopub.execute_input": "2020-12-24T10:41:17.650414Z",
          "iopub.status.busy": "2020-12-24T10:41:17.649643Z",
          "iopub.status.idle": "2020-12-24T10:41:18.012458Z",
          "shell.execute_reply": "2020-12-24T10:41:18.013323Z"
        },
        "id": "Uj5eXyqYEzU6",
        "outputId": "a399de44-06ca-4911-9a2a-18c84a26c803",
        "papermill": {
          "duration": 0.416211,
          "end_time": "2020-12-24T10:41:18.013507",
          "exception": false,
          "start_time": "2020-12-24T10:41:17.597296",
          "status": "completed"
        },
        "tags": [],
        "colab": {
          "base_uri": "https://localhost:8080/",
          "height": 113,
          "referenced_widgets": [
            "87d84138a3df41beb74f026070ac5287",
            "3dcfd4bc90e145dbad764642d5781acd",
            "73653a4b976c44fa946d183fa57b8391",
            "0bc981ccfcb74e2db4be3e8211ae570f",
            "5133778de6b44cd09ccf38d930885241",
            "94b7ac060ba54f758ec9f99385fcfdd3",
            "a23907f97580452e9b46b0e4e542b952",
            "ec44e93452b3460f94266f152c001174",
            "8605d02afc03451285f025a47e4f6cbf",
            "8989bd1bd39c4643a3623f3c11a1adb5",
            "94bdda3524c34cbea1d3f1bcae160c2c",
            "da06b888de364723b4e69ad7b82cf506",
            "f9e559349e9547878273050158c32e52",
            "eadb832c282c4ca5b8fe639e016d3a53",
            "669becc08a154c04bf1b716d0df9a7e4",
            "03b390f37c2242a7bf88bf426967daff",
            "ea954880bba748b19a7c04c3da6d9171",
            "f818405330ce4a549693b941bd87177b",
            "4e2effff9f114f629d0fe7679737ab87",
            "6e7291e483f24e869ae8e043442c73c7",
            "195a20126a7e4ef28516d977f186293d",
            "379e5c96a93343d9a54e5034aae461fb",
            "9674bdc366f041a7a195e6322fcbf637",
            "e0d310aa4bd841b796ff30aa406270bf",
            "00051a7a6fba4fd1a441090290bd07eb",
            "a4db084ddd614eeda151dbd1d62a9388",
            "cdb6464e0a0d4db8b54efedfe69839f4",
            "f8f755a3873d47e0bd18f6c43367d41b",
            "e298740a27074ef29ab67d635ebee746",
            "a99d18aa214344f683212d022e395b28",
            "a360e29308ce4649bd134e1c80e22422",
            "3839864e043b44e88fcf1579384de147",
            "19b562ec467c41179892632dac943bd3"
          ]
        }
      },
      "outputs": [
        {
          "output_type": "display_data",
          "data": {
            "text/plain": [
              "Downloading (…)solve/main/vocab.txt:   0%|          | 0.00/213k [00:00<?, ?B/s]"
            ],
            "application/vnd.jupyter.widget-view+json": {
              "version_major": 2,
              "version_minor": 0,
              "model_id": "87d84138a3df41beb74f026070ac5287"
            }
          },
          "metadata": {}
        },
        {
          "output_type": "display_data",
          "data": {
            "text/plain": [
              "Downloading (…)okenizer_config.json:   0%|          | 0.00/29.0 [00:00<?, ?B/s]"
            ],
            "application/vnd.jupyter.widget-view+json": {
              "version_major": 2,
              "version_minor": 0,
              "model_id": "da06b888de364723b4e69ad7b82cf506"
            }
          },
          "metadata": {}
        },
        {
          "output_type": "display_data",
          "data": {
            "text/plain": [
              "Downloading (…)lve/main/config.json:   0%|          | 0.00/570 [00:00<?, ?B/s]"
            ],
            "application/vnd.jupyter.widget-view+json": {
              "version_major": 2,
              "version_minor": 0,
              "model_id": "9674bdc366f041a7a195e6322fcbf637"
            }
          },
          "metadata": {}
        }
      ],
      "source": [
        "# Set the model name\n",
        "MODEL_NAME = 'bert-base-cased'\n",
        "\n",
        "# Build a BERT based tokenizer\n",
        "tokenizer = BertTokenizer.from_pretrained(MODEL_NAME)"
      ]
    },
    {
      "cell_type": "code",
      "execution_count": null,
      "metadata": {
        "execution": {
          "iopub.execute_input": "2020-12-24T10:41:18.303902Z",
          "iopub.status.busy": "2020-12-24T10:41:18.303283Z",
          "iopub.status.idle": "2020-12-24T10:41:30.634812Z",
          "shell.execute_reply": "2020-12-24T10:41:30.633839Z"
        },
        "id": "oBIUYNVoEzVB",
        "outputId": "37b0c499-8cd3-495e-aa3a-742266abd9c5",
        "papermill": {
          "duration": 12.38078,
          "end_time": "2020-12-24T10:41:30.634937",
          "exception": false,
          "start_time": "2020-12-24T10:41:18.254157",
          "status": "completed"
        },
        "tags": [],
        "colab": {
          "base_uri": "https://localhost:8080/"
        }
      },
      "outputs": [
        {
          "output_type": "stream",
          "name": "stderr",
          "text": [
            "Truncation was not explicitly activated but `max_length` is provided a specific value, please use `truncation=True` to explicitly truncate examples to max length. Defaulting to 'longest_first' truncation strategy. If you encode pairs of sequences (GLUE-style) with the tokenizer you can select this strategy more precisely by providing a specific strategy to `truncation`.\n"
          ]
        }
      ],
      "source": [
        "# Store length of each review\n",
        "token_lens = []\n",
        "\n",
        "# Iterate through the content slide\n",
        "for txt in df.text:\n",
        "    tokens = tokenizer.encode(txt, max_length=512)\n",
        "    token_lens.append(len(tokens))"
      ]
    },
    {
      "cell_type": "code",
      "execution_count": null,
      "metadata": {
        "execution": {
          "iopub.execute_input": "2020-12-24T10:41:30.738145Z",
          "iopub.status.busy": "2020-12-24T10:41:30.736954Z",
          "iopub.status.idle": "2020-12-24T10:41:31.174710Z",
          "shell.execute_reply": "2020-12-24T10:41:31.175269Z"
        },
        "id": "bpVn-ndyEzVE",
        "papermill": {
          "duration": 0.494561,
          "end_time": "2020-12-24T10:41:31.175429",
          "exception": false,
          "start_time": "2020-12-24T10:41:30.680868",
          "status": "completed"
        },
        "tags": [],
        "colab": {
          "base_uri": "https://localhost:8080/",
          "height": 727
        },
        "outputId": "abea05c6-5ac8-41a0-fae7-36309b72e0c7"
      },
      "outputs": [
        {
          "output_type": "execute_result",
          "data": {
            "text/plain": [
              "Text(0.5, 0, 'Token count')"
            ]
          },
          "metadata": {},
          "execution_count": 9
        },
        {
          "output_type": "display_data",
          "data": {
            "text/plain": [
              "<Figure size 1200x800 with 1 Axes>"
            ],
            "image/png": "[encoded data removed]"
          },
          "metadata": {
            "image/png": {
              "width": 1064,
              "height": 693
            }
          }
        }
      ],
      "source": [
        "# plot the distribution of review lengths\n",
        "sns.distplot(token_lens)\n",
        "plt.xlim([0, 1000]);\n",
        "plt.xlabel('Token count')"
      ]
    },
    {
      "cell_type": "code",
      "execution_count": null,
      "metadata": {
        "execution": {
          "iopub.execute_input": "2020-12-24T10:41:31.369565Z",
          "iopub.status.busy": "2020-12-24T10:41:31.368714Z",
          "iopub.status.idle": "2020-12-24T10:41:31.371640Z",
          "shell.execute_reply": "2020-12-24T10:41:31.371105Z"
        },
        "id": "blPAZJOPEzVJ",
        "papermill": {
          "duration": 0.053793,
          "end_time": "2020-12-24T10:41:31.371748",
          "exception": false,
          "start_time": "2020-12-24T10:41:31.317955",
          "status": "completed"
        },
        "tags": []
      },
      "outputs": [],
      "source": [
        "MAX_LEN = 400"
      ]
    },
    {
      "cell_type": "code",
      "source": [
        "df['sentiment'] = df['sentiment'].map({'neg': 1, 'pos': 0})"
      ],
      "metadata": {
        "id": "rPSbvLVTQDAd"
      },
      "execution_count": null,
      "outputs": []
    },
    {
      "cell_type": "markdown",
      "metadata": {
        "id": "5owK7q5hEzVL",
        "papermill": {
          "duration": 0.045713,
          "end_time": "2020-12-24T10:41:31.464438",
          "exception": false,
          "start_time": "2020-12-24T10:41:31.418725",
          "status": "completed"
        },
        "tags": []
      },
      "source": [
        "### Preparing Torch Dataset\n"
      ]
    },
    {
      "cell_type": "code",
      "execution_count": null,
      "metadata": {
        "execution": {
          "iopub.execute_input": "2020-12-24T10:41:31.568644Z",
          "iopub.status.busy": "2020-12-24T10:41:31.567775Z",
          "iopub.status.idle": "2020-12-24T10:41:31.570989Z",
          "shell.execute_reply": "2020-12-24T10:41:31.570459Z"
        },
        "id": "Sbakw3KIEzVM",
        "papermill": {
          "duration": 0.060402,
          "end_time": "2020-12-24T10:41:31.571088",
          "exception": false,
          "start_time": "2020-12-24T10:41:31.510686",
          "status": "completed"
        },
        "tags": []
      },
      "outputs": [],
      "source": [
        "class GPReviewDataset(Dataset):\n",
        "    # Constructor Function\n",
        "    def __init__(self, reviews, targets, tokenizer, max_len):\n",
        "        self.reviews = reviews\n",
        "        self.targets = targets\n",
        "        self.tokenizer = tokenizer\n",
        "        self.max_len = max_len\n",
        "\n",
        "    # Length magic method\n",
        "    def __len__(self):\n",
        "        return len(self.reviews)\n",
        "\n",
        "    # get item magic method\n",
        "    def __getitem__(self, item):\n",
        "        review = str(self.reviews[item])\n",
        "        target = self.targets[item]\n",
        "\n",
        "        # Encoded format to be returned\n",
        "        encoding = self.tokenizer.encode_plus(\n",
        "            review,\n",
        "            add_special_tokens=True,\n",
        "            max_length=self.max_len,\n",
        "            return_token_type_ids=False,\n",
        "            pad_to_max_length=True,\n",
        "            return_attention_mask=True,\n",
        "            return_tensors='pt',\n",
        "        )\n",
        "\n",
        "        return {\n",
        "            'review_text': review,\n",
        "            'input_ids': encoding['input_ids'].flatten(),\n",
        "            'attention_mask': encoding['attention_mask'].flatten(),\n",
        "            'targets': torch.tensor(target, dtype=torch.long)\n",
        "        }"
      ]
    },
    {
      "cell_type": "markdown",
      "metadata": {
        "id": "Q4_AxWjuEzVP",
        "papermill": {
          "duration": 0.048421,
          "end_time": "2020-12-24T10:41:31.666280",
          "exception": false,
          "start_time": "2020-12-24T10:41:31.617859",
          "status": "completed"
        },
        "tags": []
      },
      "source": [
        "Create a 80% train data and 10% test and 10% validation data"
      ]
    },
    {
      "cell_type": "code",
      "execution_count": null,
      "metadata": {
        "execution": {
          "iopub.execute_input": "2020-12-24T10:41:31.767347Z",
          "iopub.status.busy": "2020-12-24T10:41:31.766622Z",
          "iopub.status.idle": "2020-12-24T10:41:31.779725Z",
          "shell.execute_reply": "2020-12-24T10:41:31.780320Z"
        },
        "id": "qIXH-Y-gEzVQ",
        "outputId": "cba225d7-944e-4703-a2ac-98222305c7bb",
        "papermill": {
          "duration": 0.066803,
          "end_time": "2020-12-24T10:41:31.780437",
          "exception": false,
          "start_time": "2020-12-24T10:41:31.713634",
          "status": "completed"
        },
        "tags": [],
        "colab": {
          "base_uri": "https://localhost:8080/"
        }
      },
      "outputs": [
        {
          "output_type": "stream",
          "name": "stdout",
          "text": [
            "(4668, 4) (584, 4) (584, 4)\n"
          ]
        }
      ],
      "source": [
        "df_train, df_test = train_test_split(df, test_size=0.2, random_state=RANDOM_SEED)\n",
        "df_val, df_test = train_test_split(df_test, test_size=0.5, random_state=RANDOM_SEED)\n",
        "\n",
        "print(df_train.shape, df_val.shape, df_test.shape)"
      ]
    },
    {
      "cell_type": "code",
      "execution_count": null,
      "metadata": {
        "execution": {
          "iopub.execute_input": "2020-12-24T10:41:31.979571Z",
          "iopub.status.busy": "2020-12-24T10:41:31.978811Z",
          "iopub.status.idle": "2020-12-24T10:41:31.981390Z",
          "shell.execute_reply": "2020-12-24T10:41:31.981829Z"
        },
        "id": "c7SCbUlmEzVT",
        "papermill": {
          "duration": 0.05686,
          "end_time": "2020-12-24T10:41:31.981949",
          "exception": false,
          "start_time": "2020-12-24T10:41:31.925089",
          "status": "completed"
        },
        "tags": []
      },
      "outputs": [],
      "source": [
        "def create_data_loader(df, tokenizer, max_len, batch_size):\n",
        "    ds = GPReviewDataset(\n",
        "        reviews=df.text.to_numpy(),\n",
        "        targets=df.sentiment.to_numpy(),\n",
        "        tokenizer=tokenizer,\n",
        "        max_len=max_len\n",
        "    )\n",
        "\n",
        "    return DataLoader(\n",
        "        ds,\n",
        "        batch_size=batch_size,\n",
        "        num_workers=0\n",
        "    )"
      ]
    },
    {
      "cell_type": "code",
      "execution_count": null,
      "metadata": {
        "execution": {
          "iopub.execute_input": "2020-12-24T10:41:32.082837Z",
          "iopub.status.busy": "2020-12-24T10:41:32.082102Z",
          "iopub.status.idle": "2020-12-24T10:41:32.085210Z",
          "shell.execute_reply": "2020-12-24T10:41:32.084611Z"
        },
        "id": "31-GApKIEzVW",
        "papermill": {
          "duration": 0.056072,
          "end_time": "2020-12-24T10:41:32.085330",
          "exception": false,
          "start_time": "2020-12-24T10:41:32.029258",
          "status": "completed"
        },
        "tags": []
      },
      "outputs": [],
      "source": [
        "# Create train, test and val data loaders\n",
        "BATCH_SIZE = 20\n",
        "train_data_loader = create_data_loader(df_train, tokenizer, MAX_LEN, BATCH_SIZE)\n",
        "val_data_loader = create_data_loader(df_val, tokenizer, MAX_LEN, BATCH_SIZE)\n",
        "test_data_loader = create_data_loader(df_test, tokenizer, MAX_LEN, BATCH_SIZE)"
      ]
    },
    {
      "cell_type": "markdown",
      "metadata": {
        "id": "bnRQaNQ0EzVf",
        "papermill": {
          "duration": 0.048441,
          "end_time": "2020-12-24T10:41:32.351223",
          "exception": false,
          "start_time": "2020-12-24T10:41:32.302782",
          "status": "completed"
        },
        "tags": []
      },
      "source": [
        "## Sentiment Classification with BERT and Hugging Face\n",
        "\n"
      ]
    },
    {
      "cell_type": "code",
      "execution_count": null,
      "metadata": {
        "execution": {
          "iopub.execute_input": "2020-12-24T10:41:32.457733Z",
          "iopub.status.busy": "2020-12-24T10:41:32.456781Z",
          "iopub.status.idle": "2020-12-24T10:41:50.267491Z",
          "shell.execute_reply": "2020-12-24T10:41:50.266932Z"
        },
        "id": "1oVuK0UUEzVg",
        "outputId": "ea1a80f7-3134-4ecc-9291-870edcfa869d",
        "papermill": {
          "duration": 17.866026,
          "end_time": "2020-12-24T10:41:50.267604",
          "exception": false,
          "start_time": "2020-12-24T10:41:32.401578",
          "status": "completed"
        },
        "tags": [],
        "colab": {
          "base_uri": "https://localhost:8080/",
          "height": 121,
          "referenced_widgets": [
            "a7dfc8a2f5fd4f4f9032b4484e0d815f",
            "d6aadec0621248b095f5f3b04e4a4630",
            "66311bce73334153b6880ffa21992900",
            "c6a4c6362d3a4c588ec77420076e4f29",
            "91750e80a5e74effa88611fde9035e6a",
            "187a2f8667df403d85b09de81a018b8e",
            "0ba0c1b3156a45159d66ac6ab95b7af4",
            "4f828813809d47e5b5bf14236eec4024",
            "9a7121bf68374e9f8fc7fbac6c9493f7",
            "1a9c8fb6a2204cdb90cfd6bb8d9b596b",
            "2c9913a4afe940968557fca2a4b722a5"
          ]
        }
      },
      "outputs": [
        {
          "output_type": "display_data",
          "data": {
            "text/plain": [
              "Downloading pytorch_model.bin:   0%|          | 0.00/436M [00:00<?, ?B/s]"
            ],
            "application/vnd.jupyter.widget-view+json": {
              "version_major": 2,
              "version_minor": 0,
              "model_id": "a7dfc8a2f5fd4f4f9032b4484e0d815f"
            }
          },
          "metadata": {}
        },
        {
          "output_type": "stream",
          "name": "stderr",
          "text": [
            "Some weights of the model checkpoint at bert-base-cased were not used when initializing BertModel: ['cls.predictions.transform.LayerNorm.bias', 'cls.seq_relationship.bias', 'cls.seq_relationship.weight', 'cls.predictions.transform.dense.bias', 'cls.predictions.transform.dense.weight', 'cls.predictions.transform.LayerNorm.weight', 'cls.predictions.bias', 'cls.predictions.decoder.weight']\n",
            "- This IS expected if you are initializing BertModel from the checkpoint of a model trained on another task or with another architecture (e.g. initializing a BertForSequenceClassification model from a BertForPreTraining model).\n",
            "- This IS NOT expected if you are initializing BertModel from the checkpoint of a model that you expect to be exactly identical (initializing a BertForSequenceClassification model from a BertForSequenceClassification model).\n"
          ]
        }
      ],
      "source": [
        "# Load the basic BERT model\n",
        "bert_model = BertModel.from_pretrained(MODEL_NAME)"
      ]
    },
    {
      "cell_type": "code",
      "execution_count": null,
      "metadata": {
        "execution": {
          "iopub.execute_input": "2020-12-24T10:41:50.376842Z",
          "iopub.status.busy": "2020-12-24T10:41:50.375908Z",
          "iopub.status.idle": "2020-12-24T10:41:50.378922Z",
          "shell.execute_reply": "2020-12-24T10:41:50.378458Z"
        },
        "id": "v98I1vshEzVi",
        "papermill": {
          "duration": 0.060877,
          "end_time": "2020-12-24T10:41:50.379037",
          "exception": false,
          "start_time": "2020-12-24T10:41:50.318160",
          "status": "completed"
        },
        "tags": []
      },
      "outputs": [],
      "source": [
        "class SentimentClassifier(nn.Module):\n",
        "\n",
        "    def __init__(self, n_classes, weight_decay=0.0001):\n",
        "        super(SentimentClassifier, self).__init__()\n",
        "        self.bert = BertModel.from_pretrained(MODEL_NAME, return_dict=False)\n",
        "        self.bn = nn.BatchNorm1d(self.bert.config.hidden_size)\n",
        "        self.drop_bert = nn.Dropout(p=0.3)\n",
        "        self.out = nn.Linear(self.bert.config.hidden_size, n_classes)\n",
        "        self.relu = nn.ReLU()\n",
        "        self.drop_out = nn.Dropout(p=0.3)\n",
        "        self.sigmoid = nn.Sigmoid()\n",
        "\n",
        "        self.weight_decay = weight_decay\n",
        "\n",
        "    def forward(self, input_ids, attention_mask,return_dict=False):\n",
        "        _, pooled_output = self.bert(\n",
        "            input_ids=input_ids,\n",
        "            attention_mask=attention_mask\n",
        "        )\n",
        "        output = self.bn(pooled_output)\n",
        "        output = self.drop_bert(output)\n",
        "        output = self.out(output)\n",
        "        output = self.relu(output)\n",
        "        output = self.drop_out(output)\n",
        "        output = self.sigmoid(output)\n",
        "\n",
        "        return output\n",
        "\n",
        "\n",
        "    def loss_fn(self, outputs, targets):\n",
        "        criterion = nn.BCELoss()\n",
        "        # Calculate L2 regularization loss\n",
        "        l2_loss = torch.tensor(0.0).to(outputs.device)\n",
        "        for name, param in self.named_parameters():\n",
        "            if 'weight' in name:\n",
        "                l2_loss += torch.norm(param, p=2)\n",
        "        return criterion(outputs, targets) + self.weight_decay * l2_loss"
      ]
    },
    {
      "cell_type": "code",
      "execution_count": null,
      "metadata": {
        "execution": {
          "iopub.execute_input": "2020-12-24T10:41:50.583037Z",
          "iopub.status.busy": "2020-12-24T10:41:50.582302Z",
          "iopub.status.idle": "2020-12-24T10:41:59.306892Z",
          "shell.execute_reply": "2020-12-24T10:41:59.305748Z"
        },
        "id": "5eh4ytjBEzVm",
        "papermill": {
          "duration": 8.77967,
          "end_time": "2020-12-24T10:41:59.307056",
          "exception": false,
          "start_time": "2020-12-24T10:41:50.527386",
          "status": "completed"
        },
        "tags": [],
        "colab": {
          "base_uri": "https://localhost:8080/"
        },
        "outputId": "10f0716d-f32b-4163-a35b-1520b7e78174"
      },
      "outputs": [
        {
          "output_type": "stream",
          "name": "stderr",
          "text": [
            "Some weights of the model checkpoint at bert-base-cased were not used when initializing BertModel: ['cls.predictions.transform.LayerNorm.bias', 'cls.seq_relationship.bias', 'cls.seq_relationship.weight', 'cls.predictions.transform.dense.bias', 'cls.predictions.transform.dense.weight', 'cls.predictions.transform.LayerNorm.weight', 'cls.predictions.bias', 'cls.predictions.decoder.weight']\n",
            "- This IS expected if you are initializing BertModel from the checkpoint of a model trained on another task or with another architecture (e.g. initializing a BertForSequenceClassification model from a BertForPreTraining model).\n",
            "- This IS NOT expected if you are initializing BertModel from the checkpoint of a model that you expect to be exactly identical (initializing a BertForSequenceClassification model from a BertForSequenceClassification model).\n"
          ]
        }
      ],
      "source": [
        "# Instantiate the model and move to classifier\n",
        "model = SentimentClassifier(2)\n",
        "model = model.to(device)"
      ]
    },
    {
      "cell_type": "markdown",
      "metadata": {
        "id": "_TcSxv4NEzVv",
        "papermill": {
          "duration": 0.05052,
          "end_time": "2020-12-24T10:41:59.634585",
          "exception": false,
          "start_time": "2020-12-24T10:41:59.584065",
          "status": "completed"
        },
        "tags": []
      },
      "source": [
        "### Training Phase\n",
        "\n",
        "we’ll use the AdamW optimizer provided by Hugging Face. It corrects weight decay. We’ll also use a linear scheduler with no warmup"
      ]
    },
    {
      "cell_type": "code",
      "execution_count": null,
      "metadata": {
        "execution": {
          "iopub.execute_input": "2020-12-24T10:41:59.749869Z",
          "iopub.status.busy": "2020-12-24T10:41:59.748840Z",
          "iopub.status.idle": "2020-12-24T10:41:59.751476Z",
          "shell.execute_reply": "2020-12-24T10:41:59.752019Z"
        },
        "id": "CEQfhsdnEzVw",
        "papermill": {
          "duration": 0.065207,
          "end_time": "2020-12-24T10:41:59.752162",
          "exception": false,
          "start_time": "2020-12-24T10:41:59.686955",
          "status": "completed"
        },
        "tags": []
      },
      "outputs": [],
      "source": [
        "# Number of iterations\n",
        "EPOCHS = 10\n",
        "\n",
        "# Optimizer Adam\n",
        "optimizer = AdamW(model.parameters(), lr=2e-5, correct_bias=False)\n",
        "\n",
        "total_steps = len(train_data_loader) * EPOCHS\n",
        "\n",
        "scheduler = get_linear_schedule_with_warmup(\n",
        "    optimizer,\n",
        "    num_warmup_steps=0,\n",
        "    num_training_steps=total_steps\n",
        ")\n",
        "\n",
        "# Set the loss function\n",
        "loss_fn = nn.CrossEntropyLoss().to(device)"
      ]
    },
    {
      "cell_type": "code",
      "execution_count": null,
      "metadata": {
        "execution": {
          "iopub.execute_input": "2020-12-24T10:41:59.867453Z",
          "iopub.status.busy": "2020-12-24T10:41:59.866610Z",
          "iopub.status.idle": "2020-12-24T10:41:59.869859Z",
          "shell.execute_reply": "2020-12-24T10:41:59.869295Z"
        },
        "id": "jYmCvwhmEzVz",
        "papermill": {
          "duration": 0.065214,
          "end_time": "2020-12-24T10:41:59.870001",
          "exception": false,
          "start_time": "2020-12-24T10:41:59.804787",
          "status": "completed"
        },
        "tags": []
      },
      "outputs": [],
      "source": [
        "# Function for a single training iteration\n",
        "def train_epoch(model, data_loader, loss_fn, optimizer, device, scheduler, n_examples):\n",
        "    model = model.train()\n",
        "    losses = []\n",
        "    correct_predictions = 0\n",
        "    optimizer.zero_grad()  # Clear gradients\n",
        "\n",
        "    for d in data_loader:\n",
        "        input_ids = d[\"input_ids\"].to(device)\n",
        "        attention_mask = d[\"attention_mask\"].to(device)\n",
        "        targets = d[\"targets\"].to(device)\n",
        "\n",
        "        outputs = model(\n",
        "            input_ids=input_ids,\n",
        "            attention_mask=attention_mask,\n",
        "            return_dict=False\n",
        "        )\n",
        "\n",
        "        _, preds = torch.max(outputs, dim=1)\n",
        "        loss = loss_fn(outputs, targets)\n",
        "        correct_predictions += torch.sum(preds == targets)\n",
        "        losses.append(loss.item())\n",
        "\n",
        "        # Backward prop\n",
        "        loss.backward()\n",
        "\n",
        "        # Gradient Descent\n",
        "        nn.utils.clip_grad_norm_(model.parameters(), max_norm=1.0)\n",
        "        optimizer.step()\n",
        "        scheduler.step()\n",
        "        optimizer.zero_grad()\n",
        "\n",
        "    return correct_predictions.double() / n_examples, np.mean(losses)"
      ]
    },
    {
      "cell_type": "code",
      "execution_count": null,
      "metadata": {
        "execution": {
          "iopub.execute_input": "2020-12-24T10:42:00.148855Z",
          "iopub.status.busy": "2020-12-24T10:42:00.147970Z",
          "iopub.status.idle": "2020-12-24T10:42:00.160244Z",
          "shell.execute_reply": "2020-12-24T10:42:00.161031Z"
        },
        "id": "Yil2jCZfEzV2",
        "papermill": {
          "duration": 0.104335,
          "end_time": "2020-12-24T10:42:00.161195",
          "exception": false,
          "start_time": "2020-12-24T10:42:00.056860",
          "status": "completed"
        },
        "tags": []
      },
      "outputs": [],
      "source": [
        "def eval_model(model, data_loader, loss_fn, device, n_examples):\n",
        "    model = model.eval()\n",
        "\n",
        "    losses = []\n",
        "    correct_predictions = 0\n",
        "\n",
        "    with torch.no_grad():\n",
        "        for d in data_loader:\n",
        "            input_ids = d[\"input_ids\"].to(device)\n",
        "            attention_mask = d[\"attention_mask\"].to(device)\n",
        "            targets = d[\"targets\"].to(device)\n",
        "\n",
        "            # Get model ouptuts\n",
        "            outputs = model(\n",
        "                input_ids=input_ids,\n",
        "                attention_mask=attention_mask,\n",
        "                return_dict=False\n",
        "\n",
        "\n",
        "            )\n",
        "\n",
        "            _, preds = torch.max(outputs, dim=1)\n",
        "            loss = loss_fn(outputs, targets)\n",
        "\n",
        "            correct_predictions += torch.sum(preds == targets)\n",
        "            losses.append(loss.item())\n",
        "\n",
        "    return correct_predictions.double() / n_examples, np.mean(losses)"
      ]
    },
    {
      "cell_type": "markdown",
      "metadata": {
        "id": "vZRB5jbrEzV5",
        "papermill": {
          "duration": 0.087181,
          "end_time": "2020-12-24T10:42:00.362419",
          "exception": false,
          "start_time": "2020-12-24T10:42:00.275238",
          "status": "completed"
        },
        "tags": []
      },
      "source": [
        "Write the training Loop and store the best training state."
      ]
    },
    {
      "cell_type": "code",
      "execution_count": null,
      "metadata": {
        "execution": {
          "iopub.execute_input": "2020-12-24T10:42:00.536805Z",
          "iopub.status.busy": "2020-12-24T10:42:00.535917Z",
          "iopub.status.idle": "2020-12-24T11:16:59.315127Z",
          "shell.execute_reply": "2020-12-24T11:16:59.316098Z"
        },
        "id": "tz0rylI3EzV5",
        "outputId": "8dfc37a7-0c79-4812-bebb-5446c070471b",
        "papermill": {
          "duration": 2098.864629,
          "end_time": "2020-12-24T11:16:59.316295",
          "exception": false,
          "start_time": "2020-12-24T10:42:00.451666",
          "status": "completed"
        },
        "tags": [],
        "colab": {
          "base_uri": "https://localhost:8080/"
        }
      },
      "outputs": [
        {
          "output_type": "stream",
          "name": "stdout",
          "text": [
            "Epoch 1/10\n",
            "----------\n",
            "Train loss 0.6050587958759732 accuracy 0.7212939160239932\n",
            "Val   loss 0.5450589805841446 accuracy 0.8595890410958904\n",
            "\n",
            "Epoch 2/10\n",
            "----------\n",
            "Train loss 0.577999110150541 accuracy 0.7744215938303343\n",
            "Val   loss 0.5224554498990377 accuracy 0.8955479452054794\n",
            "\n",
            "Epoch 3/10\n",
            "----------\n",
            "Train loss 0.5665115151140425 accuracy 0.7952013710368466\n",
            "Val   loss 0.5264402598142623 accuracy 0.8886986301369862\n",
            "\n",
            "Epoch 4/10\n",
            "----------\n",
            "Train loss 0.5652636200444311 accuracy 0.797343616109683\n",
            "Val   loss 0.5149074673652649 accuracy 0.9160958904109588\n",
            "\n",
            "Epoch 5/10\n",
            "----------\n",
            "Train loss 0.5584422594461685 accuracy 0.8082690659811483\n",
            "Val   loss 0.5285865316788355 accuracy 0.8818493150684931\n",
            "\n",
            "Epoch 6/10\n",
            "----------\n",
            "Train loss 0.5565855084066718 accuracy 0.8213367609254499\n",
            "Val   loss 0.5214296807845433 accuracy 0.9041095890410958\n",
            "\n",
            "Epoch 7/10\n",
            "----------\n",
            "Train loss 0.5531217950022119 accuracy 0.8228363324764354\n",
            "Val   loss 0.5107908338308335 accuracy 0.9263698630136986\n",
            "\n",
            "Epoch 8/10\n",
            "----------\n",
            "Train loss 0.5524693994950025 accuracy 0.8269065981148244\n",
            "Val   loss 0.5139979382356008 accuracy 0.9195205479452054\n",
            "\n",
            "Epoch 9/10\n",
            "----------\n",
            "Train loss 0.5509334430735335 accuracy 0.8266923736075408\n",
            "Val   loss 0.5118001917997996 accuracy 0.922945205479452\n",
            "\n",
            "Epoch 10/10\n",
            "----------\n",
            "Train loss 0.5544742033777074 accuracy 0.8185518423307627\n",
            "Val   loss 0.5119682222604751 accuracy 0.9246575342465753\n",
            "\n",
            "CPU times: user 55min 45s, sys: 14.7 s, total: 55min 59s\n",
            "Wall time: 56min 14s\n"
          ]
        }
      ],
      "source": [
        "%%time\n",
        "\n",
        "history = defaultdict(list)\n",
        "best_accuracy = 0\n",
        "\n",
        "for epoch in range(EPOCHS):\n",
        "\n",
        "    # Show details\n",
        "    print(f\"Epoch {epoch + 1}/{EPOCHS}\")\n",
        "    print(\"-\" * 10)\n",
        "\n",
        "    train_acc, train_loss = train_epoch(\n",
        "        model,\n",
        "        train_data_loader,\n",
        "        loss_fn,\n",
        "        optimizer,\n",
        "        device,\n",
        "        scheduler,\n",
        "        len(df_train)\n",
        "    )\n",
        "\n",
        "    print(f\"Train loss {train_loss} accuracy {train_acc}\")\n",
        "\n",
        "    # Get model performance (accuracy and loss)\n",
        "    val_acc, val_loss = eval_model(\n",
        "        model,\n",
        "        val_data_loader,\n",
        "        loss_fn,\n",
        "        device,\n",
        "        len(df_val)\n",
        "    )\n",
        "\n",
        "    print(f\"Val   loss {val_loss} accuracy {val_acc}\")\n",
        "    print()\n",
        "\n",
        "    history['train_acc'].append(train_acc)\n",
        "    history['train_loss'].append(train_loss)\n",
        "    history['val_acc'].append(val_acc)\n",
        "    history['val_loss'].append(val_loss)\n",
        "\n",
        "    # If we beat prev performance\n",
        "    if val_acc > best_accuracy:\n",
        "        torch.save(model.state_dict(), 'best_model_state.bin')\n",
        "        best_accuracy = val_acc"
      ]
    },
    {
      "cell_type": "markdown",
      "metadata": {
        "id": "XJ-hTsMQITml",
        "papermill": {
          "duration": 0.059469,
          "end_time": "2020-12-24T11:17:00.022231",
          "exception": false,
          "start_time": "2020-12-24T11:16:59.962762",
          "status": "completed"
        },
        "tags": []
      },
      "source": [
        "### Model Evaluation"
      ]
    },
    {
      "cell_type": "code",
      "execution_count": null,
      "metadata": {
        "execution": {
          "iopub.execute_input": "2020-12-24T11:17:00.171616Z",
          "iopub.status.busy": "2020-12-24T11:17:00.170790Z",
          "iopub.status.idle": "2020-12-24T11:17:08.785019Z",
          "shell.execute_reply": "2020-12-24T11:17:08.784048Z"
        },
        "id": "q53eNoW2IS7C",
        "outputId": "ea6765af-6b12-44b9-93cd-98d694665647",
        "papermill": {
          "duration": 8.703442,
          "end_time": "2020-12-24T11:17:08.785131",
          "exception": false,
          "start_time": "2020-12-24T11:17:00.081689",
          "status": "completed"
        },
        "tags": [],
        "colab": {
          "base_uri": "https://localhost:8080/"
        }
      },
      "outputs": [
        {
          "output_type": "execute_result",
          "data": {
            "text/plain": [
              "0.9075342465753424"
            ]
          },
          "metadata": {},
          "execution_count": 23
        }
      ],
      "source": [
        "test_acc, _ = eval_model(\n",
        "  model,\n",
        "  test_data_loader,\n",
        "  loss_fn,\n",
        "  device,\n",
        "  len(df_test)\n",
        ")\n",
        "\n",
        "test_acc.item()"
      ]
    },
    {
      "cell_type": "code",
      "execution_count": null,
      "metadata": {
        "execution": {
          "iopub.execute_input": "2020-12-24T11:17:09.037013Z",
          "iopub.status.busy": "2020-12-24T11:17:09.035178Z",
          "iopub.status.idle": "2020-12-24T11:17:09.037685Z",
          "shell.execute_reply": "2020-12-24T11:17:09.038159Z"
        },
        "id": "C2gJhrUHIfsm",
        "papermill": {
          "duration": 0.073527,
          "end_time": "2020-12-24T11:17:09.038280",
          "exception": false,
          "start_time": "2020-12-24T11:17:08.964753",
          "status": "completed"
        },
        "tags": []
      },
      "outputs": [],
      "source": [
        "def get_predictions(model, data_loader):\n",
        "    model = model.eval()\n",
        "\n",
        "    review_texts = []\n",
        "    predictions = []\n",
        "    prediction_probs = []\n",
        "    real_values = []\n",
        "\n",
        "    with torch.no_grad():\n",
        "        for d in data_loader:\n",
        "            texts = d[\"review_text\"]\n",
        "            input_ids = d[\"input_ids\"].to(device)\n",
        "            attention_mask = d[\"attention_mask\"].to(device)\n",
        "            targets = d[\"targets\"].to(device)\n",
        "\n",
        "            # Get outouts\n",
        "            outputs = model(\n",
        "                input_ids=input_ids,\n",
        "                attention_mask=attention_mask\n",
        "            )\n",
        "            _, preds = torch.max(outputs, dim=1)\n",
        "\n",
        "            review_texts.extend(texts)\n",
        "            predictions.extend(preds)\n",
        "            prediction_probs.extend(outputs)\n",
        "            real_values.extend(targets)\n",
        "\n",
        "    predictions = torch.stack(predictions).cpu()\n",
        "    prediction_probs = torch.stack(prediction_probs).cpu()\n",
        "    real_values = torch.stack(real_values).cpu()\n",
        "\n",
        "    return review_texts, predictions, prediction_probs, real_values"
      ]
    },
    {
      "cell_type": "code",
      "execution_count": null,
      "metadata": {
        "execution": {
          "iopub.execute_input": "2020-12-24T11:17:09.165445Z",
          "iopub.status.busy": "2020-12-24T11:17:09.164573Z",
          "iopub.status.idle": "2020-12-24T11:17:16.368363Z",
          "shell.execute_reply": "2020-12-24T11:17:16.367785Z"
        },
        "id": "18mV-rdaIy-T",
        "papermill": {
          "duration": 7.269693,
          "end_time": "2020-12-24T11:17:16.368471",
          "exception": false,
          "start_time": "2020-12-24T11:17:09.098778",
          "status": "completed"
        },
        "tags": []
      },
      "outputs": [],
      "source": [
        "y_review_texts, y_pred, y_pred_probs, y_test = get_predictions(\n",
        "    model,\n",
        "    test_data_loader\n",
        ")"
      ]
    },
    {
      "cell_type": "code",
      "execution_count": null,
      "metadata": {
        "execution": {
          "iopub.execute_input": "2020-12-24T11:17:16.496096Z",
          "iopub.status.busy": "2020-12-24T11:17:16.495482Z",
          "iopub.status.idle": "2020-12-24T11:17:16.508020Z",
          "shell.execute_reply": "2020-12-24T11:17:16.508635Z"
        },
        "id": "1uvXvTrQVcK6",
        "outputId": "1f039495-d2ee-4051-90a3-2601e43ec929",
        "papermill": {
          "duration": 0.078262,
          "end_time": "2020-12-24T11:17:16.508789",
          "exception": false,
          "start_time": "2020-12-24T11:17:16.430527",
          "status": "completed"
        },
        "tags": [],
        "colab": {
          "base_uri": "https://localhost:8080/"
        }
      },
      "outputs": [
        {
          "output_type": "stream",
          "name": "stdout",
          "text": [
            "              precision    recall  f1-score   support\n",
            "\n",
            "         pos       0.91      0.89      0.90       283\n",
            "         neg       0.90      0.92      0.91       301\n",
            "\n",
            "    accuracy                           0.91       584\n",
            "   macro avg       0.91      0.91      0.91       584\n",
            "weighted avg       0.91      0.91      0.91       584\n",
            "\n"
          ]
        }
      ],
      "source": [
        "print(classification_report(y_test, y_pred, target_names=[\"pos\",\"neg\"]))"
      ]
    },
    {
      "cell_type": "code",
      "execution_count": null,
      "metadata": {
        "execution": {
          "iopub.execute_input": "2020-12-24T11:17:16.640928Z",
          "iopub.status.busy": "2020-12-24T11:17:16.640058Z",
          "iopub.status.idle": "2020-12-24T11:17:16.983718Z",
          "shell.execute_reply": "2020-12-24T11:17:16.983243Z"
        },
        "id": "YWVfnVW3VgL-",
        "outputId": "22577cf9-d961-4b8b-92ad-c3abab739282",
        "papermill": {
          "duration": 0.412556,
          "end_time": "2020-12-24T11:17:16.983828",
          "exception": false,
          "start_time": "2020-12-24T11:17:16.571272",
          "status": "completed"
        },
        "tags": [],
        "colab": {
          "base_uri": "https://localhost:8080/",
          "height": 725
        }
      },
      "outputs": [
        {
          "output_type": "display_data",
          "data": {
            "text/plain": [
              "<Figure size 1200x800 with 2 Axes>"
            ],
            "image/png": "[encoded data removed]"
          },
          "metadata": {
            "image/png": {
              "width": 962,
              "height": 708
            }
          }
        }
      ],
      "source": [
        "def show_confusion_matrix(confusion_matrix):\n",
        "    hmap = sns.heatmap(confusion_matrix, annot=True, fmt=\"d\", cmap=\"Blues\")\n",
        "    hmap.yaxis.set_ticklabels(hmap.yaxis.get_ticklabels(), rotation=0, ha='right')\n",
        "    hmap.xaxis.set_ticklabels(hmap.xaxis.get_ticklabels(), rotation=30, ha='right')\n",
        "    plt.ylabel('True sentiment')\n",
        "    plt.xlabel('Predicted sentiment');\n",
        "\n",
        "cm = confusion_matrix(y_test, y_pred)\n",
        "df_cm = pd.DataFrame(cm, index=[\"pos\",\"neg\"], columns=[\"pos\",\"neg\"])\n",
        "show_confusion_matrix(df_cm)"
      ]
    }
  ],
  "metadata": {
    "kernelspec": {
      "display_name": "Python 3",
      "language": "python",
      "name": "python3"
    },
    "language_info": {
      "codemirror_mode": {
        "name": "ipython",
        "version": 3
      },
      "file_extension": ".py",
      "mimetype": "text/x-python",
      "name": "python",
      "nbconvert_exporter": "python",
      "pygments_lexer": "ipython3",
      "version": "3.7.6"
    },
    "papermill": {
      "duration": 2188.44731,
      "end_time": "2020-12-24T11:17:19.363434",
      "environment_variables": {},
      "exception": null,
      "input_path": "__notebook__.ipynb",
      "output_path": "__notebook__.ipynb",
      "parameters": {},
      "start_time": "2020-12-24T10:40:50.916124",
      "version": "2.1.0"
    },
    "widgets": {
      "application/vnd.jupyter.widget-state+json": {
        "87d84138a3df41beb74f026070ac5287": {
          "model_module": "@jupyter-widgets/controls",
          "model_name": "HBoxModel",
          "model_module_version": "1.5.0",
          "state": {
            "_dom_classes": [],
            "_model_module": "@jupyter-widgets/controls",
            "_model_module_version": "1.5.0",
            "_model_name": "HBoxModel",
            "_view_count": null,
            "_view_module": "@jupyter-widgets/controls",
            "_view_module_version": "1.5.0",
            "_view_name": "HBoxView",
            "box_style": "",
            "children": [
              "IPY_MODEL_3dcfd4bc90e145dbad764642d5781acd",
              "IPY_MODEL_73653a4b976c44fa946d183fa57b8391",
              "IPY_MODEL_0bc981ccfcb74e2db4be3e8211ae570f"
            ],
            "layout": "IPY_MODEL_5133778de6b44cd09ccf38d930885241"
          }
        },
        "3dcfd4bc90e145dbad764642d5781acd": {
          "model_module": "@jupyter-widgets/controls",
          "model_name": "HTMLModel",
          "model_module_version": "1.5.0",
          "state": {
            "_dom_classes": [],
            "_model_module": "@jupyter-widgets/controls",
            "_model_module_version": "1.5.0",
            "_model_name": "HTMLModel",
            "_view_count": null,
            "_view_module": "@jupyter-widgets/controls",
            "_view_module_version": "1.5.0",
            "_view_name": "HTMLView",
            "description": "",
            "description_tooltip": null,
            "layout": "IPY_MODEL_94b7ac060ba54f758ec9f99385fcfdd3",
            "placeholder": "​",
            "style": "IPY_MODEL_a23907f97580452e9b46b0e4e542b952",
            "value": "Downloading (…)solve/main/vocab.txt: 100%"
          }
        },
        "73653a4b976c44fa946d183fa57b8391": {
          "model_module": "@jupyter-widgets/controls",
          "model_name": "FloatProgressModel",
          "model_module_version": "1.5.0",
          "state": {
            "_dom_classes": [],
            "_model_module": "@jupyter-widgets/controls",
            "_model_module_version": "1.5.0",
            "_model_name": "FloatProgressModel",
            "_view_count": null,
            "_view_module": "@jupyter-widgets/controls",
            "_view_module_version": "1.5.0",
            "_view_name": "ProgressView",
            "bar_style": "success",
            "description": "",
            "description_tooltip": null,
            "layout": "IPY_MODEL_ec44e93452b3460f94266f152c001174",
            "max": 213450,
            "min": 0,
            "orientation": "horizontal",
            "style": "IPY_MODEL_8605d02afc03451285f025a47e4f6cbf",
            "value": 213450
          }
        },
        "0bc981ccfcb74e2db4be3e8211ae570f": {
          "model_module": "@jupyter-widgets/controls",
          "model_name": "HTMLModel",
          "model_module_version": "1.5.0",
          "state": {
            "_dom_classes": [],
            "_model_module": "@jupyter-widgets/controls",
            "_model_module_version": "1.5.0",
            "_model_name": "HTMLModel",
            "_view_count": null,
            "_view_module": "@jupyter-widgets/controls",
            "_view_module_version": "1.5.0",
            "_view_name": "HTMLView",
            "description": "",
            "description_tooltip": null,
            "layout": "IPY_MODEL_8989bd1bd39c4643a3623f3c11a1adb5",
            "placeholder": "​",
            "style": "IPY_MODEL_94bdda3524c34cbea1d3f1bcae160c2c",
            "value": " 213k/213k [00:00&lt;00:00, 3.09MB/s]"
          }
        },
        "5133778de6b44cd09ccf38d930885241": {
          "model_module": "@jupyter-widgets/base",
          "model_name": "LayoutModel",
          "model_module_version": "1.2.0",
          "state": {
            "_model_module": "@jupyter-widgets/base",
            "_model_module_version": "1.2.0",
            "_model_name": "LayoutModel",
            "_view_count": null,
            "_view_module": "@jupyter-widgets/base",
            "_view_module_version": "1.2.0",
            "_view_name": "LayoutView",
            "align_content": null,
            "align_items": null,
            "align_self": null,
            "border": null,
            "bottom": null,
            "display": null,
            "flex": null,
            "flex_flow": null,
            "grid_area": null,
            "grid_auto_columns": null,
            "grid_auto_flow": null,
            "grid_auto_rows": null,
            "grid_column": null,
            "grid_gap": null,
            "grid_row": null,
            "grid_template_areas": null,
            "grid_template_columns": null,
            "grid_template_rows": null,
            "height": null,
            "justify_content": null,
            "justify_items": null,
            "left": null,
            "margin": null,
            "max_height": null,
            "max_width": null,
            "min_height": null,
            "min_width": null,
            "object_fit": null,
            "object_position": null,
            "order": null,
            "overflow": null,
            "overflow_x": null,
            "overflow_y": null,
            "padding": null,
            "right": null,
            "top": null,
            "visibility": null,
            "width": null
          }
        },
        "94b7ac060ba54f758ec9f99385fcfdd3": {
          "model_module": "@jupyter-widgets/base",
          "model_name": "LayoutModel",
          "model_module_version": "1.2.0",
          "state": {
            "_model_module": "@jupyter-widgets/base",
            "_model_module_version": "1.2.0",
            "_model_name": "LayoutModel",
            "_view_count": null,
            "_view_module": "@jupyter-widgets/base",
            "_view_module_version": "1.2.0",
            "_view_name": "LayoutView",
            "align_content": null,
            "align_items": null,
            "align_self": null,
            "border": null,
            "bottom": null,
            "display": null,
            "flex": null,
            "flex_flow": null,
            "grid_area": null,
            "grid_auto_columns": null,
            "grid_auto_flow": null,
            "grid_auto_rows": null,
            "grid_column": null,
            "grid_gap": null,
            "grid_row": null,
            "grid_template_areas": null,
            "grid_template_columns": null,
            "grid_template_rows": null,
            "height": null,
            "justify_content": null,
            "justify_items": null,
            "left": null,
            "margin": null,
            "max_height": null,
            "max_width": null,
            "min_height": null,
            "min_width": null,
            "object_fit": null,
            "object_position": null,
            "order": null,
            "overflow": null,
            "overflow_x": null,
            "overflow_y": null,
            "padding": null,
            "right": null,
            "top": null,
            "visibility": null,
            "width": null
          }
        },
        "a23907f97580452e9b46b0e4e542b952": {
          "model_module": "@jupyter-widgets/controls",
          "model_name": "DescriptionStyleModel",
          "model_module_version": "1.5.0",
          "state": {
            "_model_module": "@jupyter-widgets/controls",
            "_model_module_version": "1.5.0",
            "_model_name": "DescriptionStyleModel",
            "_view_count": null,
            "_view_module": "@jupyter-widgets/base",
            "_view_module_version": "1.2.0",
            "_view_name": "StyleView",
            "description_width": ""
          }
        },
        "ec44e93452b3460f94266f152c001174": {
          "model_module": "@jupyter-widgets/base",
          "model_name": "LayoutModel",
          "model_module_version": "1.2.0",
          "state": {
            "_model_module": "@jupyter-widgets/base",
            "_model_module_version": "1.2.0",
            "_model_name": "LayoutModel",
            "_view_count": null,
            "_view_module": "@jupyter-widgets/base",
            "_view_module_version": "1.2.0",
            "_view_name": "LayoutView",
            "align_content": null,
            "align_items": null,
            "align_self": null,
            "border": null,
            "bottom": null,
            "display": null,
            "flex": null,
            "flex_flow": null,
            "grid_area": null,
            "grid_auto_columns": null,
            "grid_auto_flow": null,
            "grid_auto_rows": null,
            "grid_column": null,
            "grid_gap": null,
            "grid_row": null,
            "grid_template_areas": null,
            "grid_template_columns": null,
            "grid_template_rows": null,
            "height": null,
            "justify_content": null,
            "justify_items": null,
            "left": null,
            "margin": null,
            "max_height": null,
            "max_width": null,
            "min_height": null,
            "min_width": null,
            "object_fit": null,
            "object_position": null,
            "order": null,
            "overflow": null,
            "overflow_x": null,
            "overflow_y": null,
            "padding": null,
            "right": null,
            "top": null,
            "visibility": null,
            "width": null
          }
        },
        "8605d02afc03451285f025a47e4f6cbf": {
          "model_module": "@jupyter-widgets/controls",
          "model_name": "ProgressStyleModel",
          "model_module_version": "1.5.0",
          "state": {
            "_model_module": "@jupyter-widgets/controls",
            "_model_module_version": "1.5.0",
            "_model_name": "ProgressStyleModel",
            "_view_count": null,
            "_view_module": "@jupyter-widgets/base",
            "_view_module_version": "1.2.0",
            "_view_name": "StyleView",
            "bar_color": null,
            "description_width": ""
          }
        },
        "8989bd1bd39c4643a3623f3c11a1adb5": {
          "model_module": "@jupyter-widgets/base",
          "model_name": "LayoutModel",
          "model_module_version": "1.2.0",
          "state": {
            "_model_module": "@jupyter-widgets/base",
            "_model_module_version": "1.2.0",
            "_model_name": "LayoutModel",
            "_view_count": null,
            "_view_module": "@jupyter-widgets/base",
            "_view_module_version": "1.2.0",
            "_view_name": "LayoutView",
            "align_content": null,
            "align_items": null,
            "align_self": null,
            "border": null,
            "bottom": null,
            "display": null,
            "flex": null,
            "flex_flow": null,
            "grid_area": null,
            "grid_auto_columns": null,
            "grid_auto_flow": null,
            "grid_auto_rows": null,
            "grid_column": null,
            "grid_gap": null,
            "grid_row": null,
            "grid_template_areas": null,
            "grid_template_columns": null,
            "grid_template_rows": null,
            "height": null,
            "justify_content": null,
            "justify_items": null,
            "left": null,
            "margin": null,
            "max_height": null,
            "max_width": null,
            "min_height": null,
            "min_width": null,
            "object_fit": null,
            "object_position": null,
            "order": null,
            "overflow": null,
            "overflow_x": null,
            "overflow_y": null,
            "padding": null,
            "right": null,
            "top": null,
            "visibility": null,
            "width": null
          }
        },
        "94bdda3524c34cbea1d3f1bcae160c2c": {
          "model_module": "@jupyter-widgets/controls",
          "model_name": "DescriptionStyleModel",
          "model_module_version": "1.5.0",
          "state": {
            "_model_module": "@jupyter-widgets/controls",
            "_model_module_version": "1.5.0",
            "_model_name": "DescriptionStyleModel",
            "_view_count": null,
            "_view_module": "@jupyter-widgets/base",
            "_view_module_version": "1.2.0",
            "_view_name": "StyleView",
            "description_width": ""
          }
        },
        "da06b888de364723b4e69ad7b82cf506": {
          "model_module": "@jupyter-widgets/controls",
          "model_name": "HBoxModel",
          "model_module_version": "1.5.0",
          "state": {
            "_dom_classes": [],
            "_model_module": "@jupyter-widgets/controls",
            "_model_module_version": "1.5.0",
            "_model_name": "HBoxModel",
            "_view_count": null,
            "_view_module": "@jupyter-widgets/controls",
            "_view_module_version": "1.5.0",
            "_view_name": "HBoxView",
            "box_style": "",
            "children": [
              "IPY_MODEL_f9e559349e9547878273050158c32e52",
              "IPY_MODEL_eadb832c282c4ca5b8fe639e016d3a53",
              "IPY_MODEL_669becc08a154c04bf1b716d0df9a7e4"
            ],
            "layout": "IPY_MODEL_03b390f37c2242a7bf88bf426967daff"
          }
        },
        "f9e559349e9547878273050158c32e52": {
          "model_module": "@jupyter-widgets/controls",
          "model_name": "HTMLModel",
          "model_module_version": "1.5.0",
          "state": {
            "_dom_classes": [],
            "_model_module": "@jupyter-widgets/controls",
            "_model_module_version": "1.5.0",
            "_model_name": "HTMLModel",
            "_view_count": null,
            "_view_module": "@jupyter-widgets/controls",
            "_view_module_version": "1.5.0",
            "_view_name": "HTMLView",
            "description": "",
            "description_tooltip": null,
            "layout": "IPY_MODEL_ea954880bba748b19a7c04c3da6d9171",
            "placeholder": "​",
            "style": "IPY_MODEL_f818405330ce4a549693b941bd87177b",
            "value": "Downloading (…)okenizer_config.json: 100%"
          }
        },
        "eadb832c282c4ca5b8fe639e016d3a53": {
          "model_module": "@jupyter-widgets/controls",
          "model_name": "FloatProgressModel",
          "model_module_version": "1.5.0",
          "state": {
            "_dom_classes": [],
            "_model_module": "@jupyter-widgets/controls",
            "_model_module_version": "1.5.0",
            "_model_name": "FloatProgressModel",
            "_view_count": null,
            "_view_module": "@jupyter-widgets/controls",
            "_view_module_version": "1.5.0",
            "_view_name": "ProgressView",
            "bar_style": "success",
            "description": "",
            "description_tooltip": null,
            "layout": "IPY_MODEL_4e2effff9f114f629d0fe7679737ab87",
            "max": 29,
            "min": 0,
            "orientation": "horizontal",
            "style": "IPY_MODEL_6e7291e483f24e869ae8e043442c73c7",
            "value": 29
          }
        },
        "669becc08a154c04bf1b716d0df9a7e4": {
          "model_module": "@jupyter-widgets/controls",
          "model_name": "HTMLModel",
          "model_module_version": "1.5.0",
          "state": {
            "_dom_classes": [],
            "_model_module": "@jupyter-widgets/controls",
            "_model_module_version": "1.5.0",
            "_model_name": "HTMLModel",
            "_view_count": null,
            "_view_module": "@jupyter-widgets/controls",
            "_view_module_version": "1.5.0",
            "_view_name": "HTMLView",
            "description": "",
            "description_tooltip": null,
            "layout": "IPY_MODEL_195a20126a7e4ef28516d977f186293d",
            "placeholder": "​",
            "style": "IPY_MODEL_379e5c96a93343d9a54e5034aae461fb",
            "value": " 29.0/29.0 [00:00&lt;00:00, 1.09kB/s]"
          }
        },
        "03b390f37c2242a7bf88bf426967daff": {
          "model_module": "@jupyter-widgets/base",
          "model_name": "LayoutModel",
          "model_module_version": "1.2.0",
          "state": {
            "_model_module": "@jupyter-widgets/base",
            "_model_module_version": "1.2.0",
            "_model_name": "LayoutModel",
            "_view_count": null,
            "_view_module": "@jupyter-widgets/base",
            "_view_module_version": "1.2.0",
            "_view_name": "LayoutView",
            "align_content": null,
            "align_items": null,
            "align_self": null,
            "border": null,
            "bottom": null,
            "display": null,
            "flex": null,
            "flex_flow": null,
            "grid_area": null,
            "grid_auto_columns": null,
            "grid_auto_flow": null,
            "grid_auto_rows": null,
            "grid_column": null,
            "grid_gap": null,
            "grid_row": null,
            "grid_template_areas": null,
            "grid_template_columns": null,
            "grid_template_rows": null,
            "height": null,
            "justify_content": null,
            "justify_items": null,
            "left": null,
            "margin": null,
            "max_height": null,
            "max_width": null,
            "min_height": null,
            "min_width": null,
            "object_fit": null,
            "object_position": null,
            "order": null,
            "overflow": null,
            "overflow_x": null,
            "overflow_y": null,
            "padding": null,
            "right": null,
            "top": null,
            "visibility": null,
            "width": null
          }
        },
        "ea954880bba748b19a7c04c3da6d9171": {
          "model_module": "@jupyter-widgets/base",
          "model_name": "LayoutModel",
          "model_module_version": "1.2.0",
          "state": {
            "_model_module": "@jupyter-widgets/base",
            "_model_module_version": "1.2.0",
            "_model_name": "LayoutModel",
            "_view_count": null,
            "_view_module": "@jupyter-widgets/base",
            "_view_module_version": "1.2.0",
            "_view_name": "LayoutView",
            "align_content": null,
            "align_items": null,
            "align_self": null,
            "border": null,
            "bottom": null,
            "display": null,
            "flex": null,
            "flex_flow": null,
            "grid_area": null,
            "grid_auto_columns": null,
            "grid_auto_flow": null,
            "grid_auto_rows": null,
            "grid_column": null,
            "grid_gap": null,
            "grid_row": null,
            "grid_template_areas": null,
            "grid_template_columns": null,
            "grid_template_rows": null,
            "height": null,
            "justify_content": null,
            "justify_items": null,
            "left": null,
            "margin": null,
            "max_height": null,
            "max_width": null,
            "min_height": null,
            "min_width": null,
            "object_fit": null,
            "object_position": null,
            "order": null,
            "overflow": null,
            "overflow_x": null,
            "overflow_y": null,
            "padding": null,
            "right": null,
            "top": null,
            "visibility": null,
            "width": null
          }
        },
        "f818405330ce4a549693b941bd87177b": {
          "model_module": "@jupyter-widgets/controls",
          "model_name": "DescriptionStyleModel",
          "model_module_version": "1.5.0",
          "state": {
            "_model_module": "@jupyter-widgets/controls",
            "_model_module_version": "1.5.0",
            "_model_name": "DescriptionStyleModel",
            "_view_count": null,
            "_view_module": "@jupyter-widgets/base",
            "_view_module_version": "1.2.0",
            "_view_name": "StyleView",
            "description_width": ""
          }
        },
        "4e2effff9f114f629d0fe7679737ab87": {
          "model_module": "@jupyter-widgets/base",
          "model_name": "LayoutModel",
          "model_module_version": "1.2.0",
          "state": {
            "_model_module": "@jupyter-widgets/base",
            "_model_module_version": "1.2.0",
            "_model_name": "LayoutModel",
            "_view_count": null,
            "_view_module": "@jupyter-widgets/base",
            "_view_module_version": "1.2.0",
            "_view_name": "LayoutView",
            "align_content": null,
            "align_items": null,
            "align_self": null,
            "border": null,
            "bottom": null,
            "display": null,
            "flex": null,
            "flex_flow": null,
            "grid_area": null,
            "grid_auto_columns": null,
            "grid_auto_flow": null,
            "grid_auto_rows": null,
            "grid_column": null,
            "grid_gap": null,
            "grid_row": null,
            "grid_template_areas": null,
            "grid_template_columns": null,
            "grid_template_rows": null,
            "height": null,
            "justify_content": null,
            "justify_items": null,
            "left": null,
            "margin": null,
            "max_height": null,
            "max_width": null,
            "min_height": null,
            "min_width": null,
            "object_fit": null,
            "object_position": null,
            "order": null,
            "overflow": null,
            "overflow_x": null,
            "overflow_y": null,
            "padding": null,
            "right": null,
            "top": null,
            "visibility": null,
            "width": null
          }
        },
        "6e7291e483f24e869ae8e043442c73c7": {
          "model_module": "@jupyter-widgets/controls",
          "model_name": "ProgressStyleModel",
          "model_module_version": "1.5.0",
          "state": {
            "_model_module": "@jupyter-widgets/controls",
            "_model_module_version": "1.5.0",
            "_model_name": "ProgressStyleModel",
            "_view_count": null,
            "_view_module": "@jupyter-widgets/base",
            "_view_module_version": "1.2.0",
            "_view_name": "StyleView",
            "bar_color": null,
            "description_width": ""
          }
        },
        "195a20126a7e4ef28516d977f186293d": {
          "model_module": "@jupyter-widgets/base",
          "model_name": "LayoutModel",
          "model_module_version": "1.2.0",
          "state": {
            "_model_module": "@jupyter-widgets/base",
            "_model_module_version": "1.2.0",
            "_model_name": "LayoutModel",
            "_view_count": null,
            "_view_module": "@jupyter-widgets/base",
            "_view_module_version": "1.2.0",
            "_view_name": "LayoutView",
            "align_content": null,
            "align_items": null,
            "align_self": null,
            "border": null,
            "bottom": null,
            "display": null,
            "flex": null,
            "flex_flow": null,
            "grid_area": null,
            "grid_auto_columns": null,
            "grid_auto_flow": null,
            "grid_auto_rows": null,
            "grid_column": null,
            "grid_gap": null,
            "grid_row": null,
            "grid_template_areas": null,
            "grid_template_columns": null,
            "grid_template_rows": null,
            "height": null,
            "justify_content": null,
            "justify_items": null,
            "left": null,
            "margin": null,
            "max_height": null,
            "max_width": null,
            "min_height": null,
            "min_width": null,
            "object_fit": null,
            "object_position": null,
            "order": null,
            "overflow": null,
            "overflow_x": null,
            "overflow_y": null,
            "padding": null,
            "right": null,
            "top": null,
            "visibility": null,
            "width": null
          }
        },
        "379e5c96a93343d9a54e5034aae461fb": {
          "model_module": "@jupyter-widgets/controls",
          "model_name": "DescriptionStyleModel",
          "model_module_version": "1.5.0",
          "state": {
            "_model_module": "@jupyter-widgets/controls",
            "_model_module_version": "1.5.0",
            "_model_name": "DescriptionStyleModel",
            "_view_count": null,
            "_view_module": "@jupyter-widgets/base",
            "_view_module_version": "1.2.0",
            "_view_name": "StyleView",
            "description_width": ""
          }
        },
        "9674bdc366f041a7a195e6322fcbf637": {
          "model_module": "@jupyter-widgets/controls",
          "model_name": "HBoxModel",
          "model_module_version": "1.5.0",
          "state": {
            "_dom_classes": [],
            "_model_module": "@jupyter-widgets/controls",
            "_model_module_version": "1.5.0",
            "_model_name": "HBoxModel",
            "_view_count": null,
            "_view_module": "@jupyter-widgets/controls",
            "_view_module_version": "1.5.0",
            "_view_name": "HBoxView",
            "box_style": "",
            "children": [
              "IPY_MODEL_e0d310aa4bd841b796ff30aa406270bf",
              "IPY_MODEL_00051a7a6fba4fd1a441090290bd07eb",
              "IPY_MODEL_a4db084ddd614eeda151dbd1d62a9388"
            ],
            "layout": "IPY_MODEL_cdb6464e0a0d4db8b54efedfe69839f4"
          }
        },
        "e0d310aa4bd841b796ff30aa406270bf": {
          "model_module": "@jupyter-widgets/controls",
          "model_name": "HTMLModel",
          "model_module_version": "1.5.0",
          "state": {
            "_dom_classes": [],
            "_model_module": "@jupyter-widgets/controls",
            "_model_module_version": "1.5.0",
            "_model_name": "HTMLModel",
            "_view_count": null,
            "_view_module": "@jupyter-widgets/controls",
            "_view_module_version": "1.5.0",
            "_view_name": "HTMLView",
            "description": "",
            "description_tooltip": null,
            "layout": "IPY_MODEL_f8f755a3873d47e0bd18f6c43367d41b",
            "placeholder": "​",
            "style": "IPY_MODEL_e298740a27074ef29ab67d635ebee746",
            "value": "Downloading (…)lve/main/config.json: 100%"
          }
        },
        "00051a7a6fba4fd1a441090290bd07eb": {
          "model_module": "@jupyter-widgets/controls",
          "model_name": "FloatProgressModel",
          "model_module_version": "1.5.0",
          "state": {
            "_dom_classes": [],
            "_model_module": "@jupyter-widgets/controls",
            "_model_module_version": "1.5.0",
            "_model_name": "FloatProgressModel",
            "_view_count": null,
            "_view_module": "@jupyter-widgets/controls",
            "_view_module_version": "1.5.0",
            "_view_name": "ProgressView",
            "bar_style": "success",
            "description": "",
            "description_tooltip": null,
            "layout": "IPY_MODEL_a99d18aa214344f683212d022e395b28",
            "max": 570,
            "min": 0,
            "orientation": "horizontal",
            "style": "IPY_MODEL_a360e29308ce4649bd134e1c80e22422",
            "value": 570
          }
        },
        "a4db084ddd614eeda151dbd1d62a9388": {
          "model_module": "@jupyter-widgets/controls",
          "model_name": "HTMLModel",
          "model_module_version": "1.5.0",
          "state": {
            "_dom_classes": [],
            "_model_module": "@jupyter-widgets/controls",
            "_model_module_version": "1.5.0",
            "_model_name": "HTMLModel",
            "_view_count": null,
            "_view_module": "@jupyter-widgets/controls",
            "_view_module_version": "1.5.0",
            "_view_name": "HTMLView",
            "description": "",
            "description_tooltip": null,
            "layout": "IPY_MODEL_3839864e043b44e88fcf1579384de147",
            "placeholder": "​",
            "style": "IPY_MODEL_19b562ec467c41179892632dac943bd3",
            "value": " 570/570 [00:00&lt;00:00, 21.4kB/s]"
          }
        },
        "cdb6464e0a0d4db8b54efedfe69839f4": {
          "model_module": "@jupyter-widgets/base",
          "model_name": "LayoutModel",
          "model_module_version": "1.2.0",
          "state": {
            "_model_module": "@jupyter-widgets/base",
            "_model_module_version": "1.2.0",
            "_model_name": "LayoutModel",
            "_view_count": null,
            "_view_module": "@jupyter-widgets/base",
            "_view_module_version": "1.2.0",
            "_view_name": "LayoutView",
            "align_content": null,
            "align_items": null,
            "align_self": null,
            "border": null,
            "bottom": null,
            "display": null,
            "flex": null,
            "flex_flow": null,
            "grid_area": null,
            "grid_auto_columns": null,
            "grid_auto_flow": null,
            "grid_auto_rows": null,
            "grid_column": null,
            "grid_gap": null,
            "grid_row": null,
            "grid_template_areas": null,
            "grid_template_columns": null,
            "grid_template_rows": null,
            "height": null,
            "justify_content": null,
            "justify_items": null,
            "left": null,
            "margin": null,
            "max_height": null,
            "max_width": null,
            "min_height": null,
            "min_width": null,
            "object_fit": null,
            "object_position": null,
            "order": null,
            "overflow": null,
            "overflow_x": null,
            "overflow_y": null,
            "padding": null,
            "right": null,
            "top": null,
            "visibility": null,
            "width": null
          }
        },
        "f8f755a3873d47e0bd18f6c43367d41b": {
          "model_module": "@jupyter-widgets/base",
          "model_name": "LayoutModel",
          "model_module_version": "1.2.0",
          "state": {
            "_model_module": "@jupyter-widgets/base",
            "_model_module_version": "1.2.0",
            "_model_name": "LayoutModel",
            "_view_count": null,
            "_view_module": "@jupyter-widgets/base",
            "_view_module_version": "1.2.0",
            "_view_name": "LayoutView",
            "align_content": null,
            "align_items": null,
            "align_self": null,
            "border": null,
            "bottom": null,
            "display": null,
            "flex": null,
            "flex_flow": null,
            "grid_area": null,
            "grid_auto_columns": null,
            "grid_auto_flow": null,
            "grid_auto_rows": null,
            "grid_column": null,
            "grid_gap": null,
            "grid_row": null,
            "grid_template_areas": null,
            "grid_template_columns": null,
            "grid_template_rows": null,
            "height": null,
            "justify_content": null,
            "justify_items": null,
            "left": null,
            "margin": null,
            "max_height": null,
            "max_width": null,
            "min_height": null,
            "min_width": null,
            "object_fit": null,
            "object_position": null,
            "order": null,
            "overflow": null,
            "overflow_x": null,
            "overflow_y": null,
            "padding": null,
            "right": null,
            "top": null,
            "visibility": null,
            "width": null
          }
        },
        "e298740a27074ef29ab67d635ebee746": {
          "model_module": "@jupyter-widgets/controls",
          "model_name": "DescriptionStyleModel",
          "model_module_version": "1.5.0",
          "state": {
            "_model_module": "@jupyter-widgets/controls",
            "_model_module_version": "1.5.0",
            "_model_name": "DescriptionStyleModel",
            "_view_count": null,
            "_view_module": "@jupyter-widgets/base",
            "_view_module_version": "1.2.0",
            "_view_name": "StyleView",
            "description_width": ""
          }
        },
        "a99d18aa214344f683212d022e395b28": {
          "model_module": "@jupyter-widgets/base",
          "model_name": "LayoutModel",
          "model_module_version": "1.2.0",
          "state": {
            "_model_module": "@jupyter-widgets/base",
            "_model_module_version": "1.2.0",
            "_model_name": "LayoutModel",
            "_view_count": null,
            "_view_module": "@jupyter-widgets/base",
            "_view_module_version": "1.2.0",
            "_view_name": "LayoutView",
            "align_content": null,
            "align_items": null,
            "align_self": null,
            "border": null,
            "bottom": null,
            "display": null,
            "flex": null,
            "flex_flow": null,
            "grid_area": null,
            "grid_auto_columns": null,
            "grid_auto_flow": null,
            "grid_auto_rows": null,
            "grid_column": null,
            "grid_gap": null,
            "grid_row": null,
            "grid_template_areas": null,
            "grid_template_columns": null,
            "grid_template_rows": null,
            "height": null,
            "justify_content": null,
            "justify_items": null,
            "left": null,
            "margin": null,
            "max_height": null,
            "max_width": null,
            "min_height": null,
            "min_width": null,
            "object_fit": null,
            "object_position": null,
            "order": null,
            "overflow": null,
            "overflow_x": null,
            "overflow_y": null,
            "padding": null,
            "right": null,
            "top": null,
            "visibility": null,
            "width": null
          }
        },
        "a360e29308ce4649bd134e1c80e22422": {
          "model_module": "@jupyter-widgets/controls",
          "model_name": "ProgressStyleModel",
          "model_module_version": "1.5.0",
          "state": {
            "_model_module": "@jupyter-widgets/controls",
            "_model_module_version": "1.5.0",
            "_model_name": "ProgressStyleModel",
            "_view_count": null,
            "_view_module": "@jupyter-widgets/base",
            "_view_module_version": "1.2.0",
            "_view_name": "StyleView",
            "bar_color": null,
            "description_width": ""
          }
        },
        "3839864e043b44e88fcf1579384de147": {
          "model_module": "@jupyter-widgets/base",
          "model_name": "LayoutModel",
          "model_module_version": "1.2.0",
          "state": {
            "_model_module": "@jupyter-widgets/base",
            "_model_module_version": "1.2.0",
            "_model_name": "LayoutModel",
            "_view_count": null,
            "_view_module": "@jupyter-widgets/base",
            "_view_module_version": "1.2.0",
            "_view_name": "LayoutView",
            "align_content": null,
            "align_items": null,
            "align_self": null,
            "border": null,
            "bottom": null,
            "display": null,
            "flex": null,
            "flex_flow": null,
            "grid_area": null,
            "grid_auto_columns": null,
            "grid_auto_flow": null,
            "grid_auto_rows": null,
            "grid_column": null,
            "grid_gap": null,
            "grid_row": null,
            "grid_template_areas": null,
            "grid_template_columns": null,
            "grid_template_rows": null,
            "height": null,
            "justify_content": null,
            "justify_items": null,
            "left": null,
            "margin": null,
            "max_height": null,
            "max_width": null,
            "min_height": null,
            "min_width": null,
            "object_fit": null,
            "object_position": null,
            "order": null,
            "overflow": null,
            "overflow_x": null,
            "overflow_y": null,
            "padding": null,
            "right": null,
            "top": null,
            "visibility": null,
            "width": null
          }
        },
        "19b562ec467c41179892632dac943bd3": {
          "model_module": "@jupyter-widgets/controls",
          "model_name": "DescriptionStyleModel",
          "model_module_version": "1.5.0",
          "state": {
            "_model_module": "@jupyter-widgets/controls",
            "_model_module_version": "1.5.0",
            "_model_name": "DescriptionStyleModel",
            "_view_count": null,
            "_view_module": "@jupyter-widgets/base",
            "_view_module_version": "1.2.0",
            "_view_name": "StyleView",
            "description_width": ""
          }
        },
        "a7dfc8a2f5fd4f4f9032b4484e0d815f": {
          "model_module": "@jupyter-widgets/controls",
          "model_name": "HBoxModel",
          "model_module_version": "1.5.0",
          "state": {
            "_dom_classes": [],
            "_model_module": "@jupyter-widgets/controls",
            "_model_module_version": "1.5.0",
            "_model_name": "HBoxModel",
            "_view_count": null,
            "_view_module": "@jupyter-widgets/controls",
            "_view_module_version": "1.5.0",
            "_view_name": "HBoxView",
            "box_style": "",
            "children": [
              "IPY_MODEL_d6aadec0621248b095f5f3b04e4a4630",
              "IPY_MODEL_66311bce73334153b6880ffa21992900",
              "IPY_MODEL_c6a4c6362d3a4c588ec77420076e4f29"
            ],
            "layout": "IPY_MODEL_91750e80a5e74effa88611fde9035e6a"
          }
        },
        "d6aadec0621248b095f5f3b04e4a4630": {
          "model_module": "@jupyter-widgets/controls",
          "model_name": "HTMLModel",
          "model_module_version": "1.5.0",
          "state": {
            "_dom_classes": [],
            "_model_module": "@jupyter-widgets/controls",
            "_model_module_version": "1.5.0",
            "_model_name": "HTMLModel",
            "_view_count": null,
            "_view_module": "@jupyter-widgets/controls",
            "_view_module_version": "1.5.0",
            "_view_name": "HTMLView",
            "description": "",
            "description_tooltip": null,
            "layout": "IPY_MODEL_187a2f8667df403d85b09de81a018b8e",
            "placeholder": "​",
            "style": "IPY_MODEL_0ba0c1b3156a45159d66ac6ab95b7af4",
            "value": "Downloading pytorch_model.bin: 100%"
          }
        },
        "66311bce73334153b6880ffa21992900": {
          "model_module": "@jupyter-widgets/controls",
          "model_name": "FloatProgressModel",
          "model_module_version": "1.5.0",
          "state": {
            "_dom_classes": [],
            "_model_module": "@jupyter-widgets/controls",
            "_model_module_version": "1.5.0",
            "_model_name": "FloatProgressModel",
            "_view_count": null,
            "_view_module": "@jupyter-widgets/controls",
            "_view_module_version": "1.5.0",
            "_view_name": "ProgressView",
            "bar_style": "success",
            "description": "",
            "description_tooltip": null,
            "layout": "IPY_MODEL_4f828813809d47e5b5bf14236eec4024",
            "max": 435779157,
            "min": 0,
            "orientation": "horizontal",
            "style": "IPY_MODEL_9a7121bf68374e9f8fc7fbac6c9493f7",
            "value": 435779157
          }
        },
        "c6a4c6362d3a4c588ec77420076e4f29": {
          "model_module": "@jupyter-widgets/controls",
          "model_name": "HTMLModel",
          "model_module_version": "1.5.0",
          "state": {
            "_dom_classes": [],
            "_model_module": "@jupyter-widgets/controls",
            "_model_module_version": "1.5.0",
            "_model_name": "HTMLModel",
            "_view_count": null,
            "_view_module": "@jupyter-widgets/controls",
            "_view_module_version": "1.5.0",
            "_view_name": "HTMLView",
            "description": "",
            "description_tooltip": null,
            "layout": "IPY_MODEL_1a9c8fb6a2204cdb90cfd6bb8d9b596b",
            "placeholder": "​",
            "style": "IPY_MODEL_2c9913a4afe940968557fca2a4b722a5",
            "value": " 436M/436M [00:02&lt;00:00, 194MB/s]"
          }
        },
        "91750e80a5e74effa88611fde9035e6a": {
          "model_module": "@jupyter-widgets/base",
          "model_name": "LayoutModel",
          "model_module_version": "1.2.0",
          "state": {
            "_model_module": "@jupyter-widgets/base",
            "_model_module_version": "1.2.0",
            "_model_name": "LayoutModel",
            "_view_count": null,
            "_view_module": "@jupyter-widgets/base",
            "_view_module_version": "1.2.0",
            "_view_name": "LayoutView",
            "align_content": null,
            "align_items": null,
            "align_self": null,
            "border": null,
            "bottom": null,
            "display": null,
            "flex": null,
            "flex_flow": null,
            "grid_area": null,
            "grid_auto_columns": null,
            "grid_auto_flow": null,
            "grid_auto_rows": null,
            "grid_column": null,
            "grid_gap": null,
            "grid_row": null,
            "grid_template_areas": null,
            "grid_template_columns": null,
            "grid_template_rows": null,
            "height": null,
            "justify_content": null,
            "justify_items": null,
            "left": null,
            "margin": null,
            "max_height": null,
            "max_width": null,
            "min_height": null,
            "min_width": null,
            "object_fit": null,
            "object_position": null,
            "order": null,
            "overflow": null,
            "overflow_x": null,
            "overflow_y": null,
            "padding": null,
            "right": null,
            "top": null,
            "visibility": null,
            "width": null
          }
        },
        "187a2f8667df403d85b09de81a018b8e": {
          "model_module": "@jupyter-widgets/base",
          "model_name": "LayoutModel",
          "model_module_version": "1.2.0",
          "state": {
            "_model_module": "@jupyter-widgets/base",
            "_model_module_version": "1.2.0",
            "_model_name": "LayoutModel",
            "_view_count": null,
            "_view_module": "@jupyter-widgets/base",
            "_view_module_version": "1.2.0",
            "_view_name": "LayoutView",
            "align_content": null,
            "align_items": null,
            "align_self": null,
            "border": null,
            "bottom": null,
            "display": null,
            "flex": null,
            "flex_flow": null,
            "grid_area": null,
            "grid_auto_columns": null,
            "grid_auto_flow": null,
            "grid_auto_rows": null,
            "grid_column": null,
            "grid_gap": null,
            "grid_row": null,
            "grid_template_areas": null,
            "grid_template_columns": null,
            "grid_template_rows": null,
            "height": null,
            "justify_content": null,
            "justify_items": null,
            "left": null,
            "margin": null,
            "max_height": null,
            "max_width": null,
            "min_height": null,
            "min_width": null,
            "object_fit": null,
            "object_position": null,
            "order": null,
            "overflow": null,
            "overflow_x": null,
            "overflow_y": null,
            "padding": null,
            "right": null,
            "top": null,
            "visibility": null,
            "width": null
          }
        },
        "0ba0c1b3156a45159d66ac6ab95b7af4": {
          "model_module": "@jupyter-widgets/controls",
          "model_name": "DescriptionStyleModel",
          "model_module_version": "1.5.0",
          "state": {
            "_model_module": "@jupyter-widgets/controls",
            "_model_module_version": "1.5.0",
            "_model_name": "DescriptionStyleModel",
            "_view_count": null,
            "_view_module": "@jupyter-widgets/base",
            "_view_module_version": "1.2.0",
            "_view_name": "StyleView",
            "description_width": ""
          }
        },
        "4f828813809d47e5b5bf14236eec4024": {
          "model_module": "@jupyter-widgets/base",
          "model_name": "LayoutModel",
          "model_module_version": "1.2.0",
          "state": {
            "_model_module": "@jupyter-widgets/base",
            "_model_module_version": "1.2.0",
            "_model_name": "LayoutModel",
            "_view_count": null,
            "_view_module": "@jupyter-widgets/base",
            "_view_module_version": "1.2.0",
            "_view_name": "LayoutView",
            "align_content": null,
            "align_items": null,
            "align_self": null,
            "border": null,
            "bottom": null,
            "display": null,
            "flex": null,
            "flex_flow": null,
            "grid_area": null,
            "grid_auto_columns": null,
            "grid_auto_flow": null,
            "grid_auto_rows": null,
            "grid_column": null,
            "grid_gap": null,
            "grid_row": null,
            "grid_template_areas": null,
            "grid_template_columns": null,
            "grid_template_rows": null,
            "height": null,
            "justify_content": null,
            "justify_items": null,
            "left": null,
            "margin": null,
            "max_height": null,
            "max_width": null,
            "min_height": null,
            "min_width": null,
            "object_fit": null,
            "object_position": null,
            "order": null,
            "overflow": null,
            "overflow_x": null,
            "overflow_y": null,
            "padding": null,
            "right": null,
            "top": null,
            "visibility": null,
            "width": null
          }
        },
        "9a7121bf68374e9f8fc7fbac6c9493f7": {
          "model_module": "@jupyter-widgets/controls",
          "model_name": "ProgressStyleModel",
          "model_module_version": "1.5.0",
          "state": {
            "_model_module": "@jupyter-widgets/controls",
            "_model_module_version": "1.5.0",
            "_model_name": "ProgressStyleModel",
            "_view_count": null,
            "_view_module": "@jupyter-widgets/base",
            "_view_module_version": "1.2.0",
            "_view_name": "StyleView",
            "bar_color": null,
            "description_width": ""
          }
        },
        "1a9c8fb6a2204cdb90cfd6bb8d9b596b": {
          "model_module": "@jupyter-widgets/base",
          "model_name": "LayoutModel",
          "model_module_version": "1.2.0",
          "state": {
            "_model_module": "@jupyter-widgets/base",
            "_model_module_version": "1.2.0",
            "_model_name": "LayoutModel",
            "_view_count": null,
            "_view_module": "@jupyter-widgets/base",
            "_view_module_version": "1.2.0",
            "_view_name": "LayoutView",
            "align_content": null,
            "align_items": null,
            "align_self": null,
            "border": null,
            "bottom": null,
            "display": null,
            "flex": null,
            "flex_flow": null,
            "grid_area": null,
            "grid_auto_columns": null,
            "grid_auto_flow": null,
            "grid_auto_rows": null,
            "grid_column": null,
            "grid_gap": null,
            "grid_row": null,
            "grid_template_areas": null,
            "grid_template_columns": null,
            "grid_template_rows": null,
            "height": null,
            "justify_content": null,
            "justify_items": null,
            "left": null,
            "margin": null,
            "max_height": null,
            "max_width": null,
            "min_height": null,
            "min_width": null,
            "object_fit": null,
            "object_position": null,
            "order": null,
            "overflow": null,
            "overflow_x": null,
            "overflow_y": null,
            "padding": null,
            "right": null,
            "top": null,
            "visibility": null,
            "width": null
          }
        },
        "2c9913a4afe940968557fca2a4b722a5": {
          "model_module": "@jupyter-widgets/controls",
          "model_name": "DescriptionStyleModel",
          "model_module_version": "1.5.0",
          "state": {
            "_model_module": "@jupyter-widgets/controls",
            "_model_module_version": "1.5.0",
            "_model_name": "DescriptionStyleModel",
            "_view_count": null,
            "_view_module": "@jupyter-widgets/base",
            "_view_module_version": "1.2.0",
            "_view_name": "StyleView",
            "description_width": ""
          }
        }
      }
    },
    "colab": {
      "provenance": []
    },
    "accelerator": "GPU",
    "gpuClass": "standard"
  },
  "nbformat": 4,
  "nbformat_minor": 0
}